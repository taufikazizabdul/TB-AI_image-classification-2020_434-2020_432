{
  "nbformat": 4,
  "nbformat_minor": 0,
  "metadata": {
    "colab": {
      "provenance": []
    },
    "kernelspec": {
      "name": "python3",
      "display_name": "Python 3"
    },
    "language_info": {
      "name": "python"
    }
  },
  "cells": [
    {
      "cell_type": "code",
      "execution_count": null,
      "metadata": {
        "id": "a_im9NtDeUOp"
      },
      "outputs": [],
      "source": [
        "from google.colab import drive\n",
        "import os\n",
        "\n",
        "drive.mount('/content/drive/')"
      ]
    },
    {
      "cell_type": "code",
      "source": [
        "base_dir = '/content/drive/MyDrive/Colab Notebooks/'\n",
        "!ls \"/content/drive/My Drive/Colab Notebooks\""
      ],
      "metadata": {
        "id": "M8YdzQxqeXJQ"
      },
      "execution_count": null,
      "outputs": []
    },
    {
      "cell_type": "code",
      "source": [
        "#menentukan direktori\n",
        "bahan_dir = os.path.join(base_dir, 'bahan')\n",
        "train_dir = os.path.join(base_dir, 'latih')\n",
        "validation_dir = os.path.join(base_dir, 'validasi')"
      ],
      "metadata": {
        "id": "6Rhye09rflg9"
      },
      "execution_count": null,
      "outputs": []
    },
    {
      "cell_type": "code",
      "source": [
        "#menentukan direktory isi bahan\n",
        "pandan_dir = os.path.join(bahan_dir, 'pandan/')\n",
        "sirih_dir = os.path.join(bahan_dir, 'sirih/')\n",
        "\n",
        "print(\"Jumlah data Train Tiap Kelas\")\n",
        "print('Jumlah gambar daun pandan :',len(os.listdir(pandan_dir)))\n",
        "print('Jumlah gambar daun sirih :',len(os.listdir(sirih_dir)))"
      ],
      "metadata": {
        "colab": {
          "base_uri": "https://localhost:8080/"
        },
        "id": "aHHiqD3ZgUYm",
        "outputId": "7c054efd-8346-42f9-d778-d2a49ebc97f9"
      },
      "execution_count": null,
      "outputs": [
        {
          "output_type": "stream",
          "name": "stdout",
          "text": [
            "Jumlah data Train Tiap Kelas\n",
            "Jumlah gambar daun pandan : 50\n",
            "Jumlah gambar daun sirih : 50\n"
          ]
        }
      ]
    },
    {
      "cell_type": "code",
      "source": [
        "#direktori isi latihan/training\n",
        "train_pandan =os.path.join(train_dir, 'pandan/')\n",
        "train_sirih = os.path.join(train_dir, 'sirih/')\n",
        "\n",
        "#direktori isi validasi\n",
        "validation_pandan = os.path.join(validation_dir, 'pandan/')\n",
        "validation_sirih = os.path.join(validation_dir, 'sirih/')"
      ],
      "metadata": {
        "id": "djhjwll6io6O"
      },
      "execution_count": null,
      "outputs": []
    },
    {
      "cell_type": "markdown",
      "source": [
        "menyiapkan data"
      ],
      "metadata": {
        "id": "yM9t4o_PrQXe"
      }
    },
    {
      "cell_type": "code",
      "source": [
        "import random\n",
        "from shutil import copyfile\n",
        "\n",
        "def train_val_split(source, train, val, train_ratio):\n",
        "  total_size = len (os.listdir(source))\n",
        "  train_size = int (train_ratio * total_size)\n",
        "  val_size = total_size - train_size\n",
        "\n",
        "  randomized = random.simple(os.listdir(source), total_size)\n",
        "  train_files = randomized[0:train_size]\n",
        "  val_files = randomized[train_size:total_size]\n",
        "\n",
        "  for i in train_files:\n",
        "    i_file = source + i\n",
        "    destination = train + i\n",
        "    copyfile(i_file, destination)\n",
        "\n",
        "  for i in val_files:\n",
        "    i_file = source + i\n",
        "    destination = val + i\n",
        "    copyfile(i_file, destination)\n",
        "\n",
        "#jumlah pembagian data training dan testing\n",
        "train_ratio = 0.9\n",
        "\n",
        "#pembagian training dan validasi \n",
        "#training\n",
        "source_00 = pandan_dir\n",
        "train_00 = train_pandan\n",
        "val_00 = validation_pandan\n",
        "train_val_split(source_00, train_00, val_00, train_ratio)\n",
        "\n",
        "#validasi\n",
        "source_01 = sirih_dir\n",
        "train_01 = train_sirih\n",
        "val_01 = validation_sirih\n",
        "train_val_split(source_01, train_01, val_01, train_ratio)"
      ],
      "metadata": {
        "colab": {
          "base_uri": "https://localhost:8080/",
          "height": 374
        },
        "id": "Wy-gHy9Bljs9",
        "outputId": "b89787d5-f30b-4012-f745-de57c5600acb"
      },
      "execution_count": null,
      "outputs": [
        {
          "output_type": "error",
          "ename": "AttributeError",
          "evalue": "ignored",
          "traceback": [
            "\u001b[0;31m---------------------------------------------------------------------------\u001b[0m",
            "\u001b[0;31mAttributeError\u001b[0m                            Traceback (most recent call last)",
            "\u001b[0;32m<ipython-input-32-2dc98ddd9731>\u001b[0m in \u001b[0;36m<module>\u001b[0;34m\u001b[0m\n\u001b[1;32m     29\u001b[0m \u001b[0mtrain_00\u001b[0m \u001b[0;34m=\u001b[0m \u001b[0mtrain_pandan\u001b[0m\u001b[0;34m\u001b[0m\u001b[0;34m\u001b[0m\u001b[0m\n\u001b[1;32m     30\u001b[0m \u001b[0mval_00\u001b[0m \u001b[0;34m=\u001b[0m \u001b[0mvalidation_pandan\u001b[0m\u001b[0;34m\u001b[0m\u001b[0;34m\u001b[0m\u001b[0m\n\u001b[0;32m---> 31\u001b[0;31m \u001b[0mtrain_val_split\u001b[0m\u001b[0;34m(\u001b[0m\u001b[0msource_00\u001b[0m\u001b[0;34m,\u001b[0m \u001b[0mtrain_00\u001b[0m\u001b[0;34m,\u001b[0m \u001b[0mval_00\u001b[0m\u001b[0;34m,\u001b[0m \u001b[0mtrain_ratio\u001b[0m\u001b[0;34m)\u001b[0m\u001b[0;34m\u001b[0m\u001b[0;34m\u001b[0m\u001b[0m\n\u001b[0m\u001b[1;32m     32\u001b[0m \u001b[0;34m\u001b[0m\u001b[0m\n\u001b[1;32m     33\u001b[0m \u001b[0;31m#validasi\u001b[0m\u001b[0;34m\u001b[0m\u001b[0;34m\u001b[0m\u001b[0;34m\u001b[0m\u001b[0m\n",
            "\u001b[0;32m<ipython-input-32-2dc98ddd9731>\u001b[0m in \u001b[0;36mtrain_val_split\u001b[0;34m(source, train, val, train_ratio)\u001b[0m\n\u001b[1;32m      7\u001b[0m   \u001b[0mval_size\u001b[0m \u001b[0;34m=\u001b[0m \u001b[0mtotal_size\u001b[0m \u001b[0;34m-\u001b[0m \u001b[0mtrain_size\u001b[0m\u001b[0;34m\u001b[0m\u001b[0;34m\u001b[0m\u001b[0m\n\u001b[1;32m      8\u001b[0m \u001b[0;34m\u001b[0m\u001b[0m\n\u001b[0;32m----> 9\u001b[0;31m   \u001b[0mrandomized\u001b[0m \u001b[0;34m=\u001b[0m \u001b[0mrandom\u001b[0m\u001b[0;34m.\u001b[0m\u001b[0msimple\u001b[0m\u001b[0;34m(\u001b[0m\u001b[0mos\u001b[0m\u001b[0;34m.\u001b[0m\u001b[0mlistdir\u001b[0m\u001b[0;34m(\u001b[0m\u001b[0msource\u001b[0m\u001b[0;34m)\u001b[0m\u001b[0;34m,\u001b[0m \u001b[0mtotal_size\u001b[0m\u001b[0;34m)\u001b[0m\u001b[0;34m\u001b[0m\u001b[0;34m\u001b[0m\u001b[0m\n\u001b[0m\u001b[1;32m     10\u001b[0m   \u001b[0mtrain_files\u001b[0m \u001b[0;34m=\u001b[0m \u001b[0mrandomized\u001b[0m\u001b[0;34m[\u001b[0m\u001b[0;36m0\u001b[0m\u001b[0;34m:\u001b[0m\u001b[0mtrain_size\u001b[0m\u001b[0;34m]\u001b[0m\u001b[0;34m\u001b[0m\u001b[0;34m\u001b[0m\u001b[0m\n\u001b[1;32m     11\u001b[0m   \u001b[0mval_files\u001b[0m \u001b[0;34m=\u001b[0m \u001b[0mrandomized\u001b[0m\u001b[0;34m[\u001b[0m\u001b[0mtrain_size\u001b[0m\u001b[0;34m:\u001b[0m\u001b[0mtotal_size\u001b[0m\u001b[0;34m]\u001b[0m\u001b[0;34m\u001b[0m\u001b[0;34m\u001b[0m\u001b[0m\n",
            "\u001b[0;31mAttributeError\u001b[0m: module 'random' has no attribute 'simple'"
          ]
        }
      ]
    },
    {
      "cell_type": "code",
      "source": [
        "print('Jumlah All daun pandan   :', len(os.listdir(pandan_dir)))\n",
        "print('Jumlah Train daun pandan   :', len(os.listdir(train_pandan)))\n",
        "print('Jumlah val  daun pandan   :', len(os.listdir(validation_pandan)))"
      ],
      "metadata": {
        "id": "Tp9KMtc6po1h"
      },
      "execution_count": null,
      "outputs": []
    },
    {
      "cell_type": "markdown",
      "source": [
        "pre procesing"
      ],
      "metadata": {
        "id": "fkidedWAsXeL"
      }
    },
    {
      "cell_type": "code",
      "source": [
        "import tensorflow as tf\n",
        "from transorflow.keras.optimizers import adam\n",
        "from transorflow.keras.preprocessing.image import ImageDataGenerator"
      ],
      "metadata": {
        "id": "OXTdqRFnsNjT"
      },
      "execution_count": null,
      "outputs": []
    },
    {
      "cell_type": "code",
      "source": [
        "train_datagen = ImageDataGenerator(\n",
        "    rescale = 1./255,\n",
        "    ratation_range = 30,\n",
        "    horizontal_flip = True\n",
        "    shear_range = 0.3,\n",
        "    fill_mode = 'nearest',\n",
        "    width_shift_range = 0.2,\n",
        "    height_shift_range = 0.2,\n",
        "    zoom_range =0.1\n",
        ")\n",
        "\n",
        "val_datagen = ImageDataGenerator(\n",
        "    rescale = 1./255,\n",
        "    ratation_range = 30,\n",
        "    horizontal_flip = True\n",
        "    shear_range = 0.3,\n",
        "    fill_mode = 'nearest',\n",
        "    width_shift_range = 0.2,\n",
        "    height_shift_range = 0.2,\n",
        "    zoom_range =0.1\n",
        ")"
      ],
      "metadata": {
        "id": "LDKBwyT2tAkP"
      },
      "execution_count": null,
      "outputs": []
    },
    {
      "cell_type": "markdown",
      "source": [
        "target"
      ],
      "metadata": {
        "id": "VbxDguZwuuRi"
      }
    },
    {
      "cell_type": "code",
      "source": [
        "train_generator = train_datagen.flow_from_directory(\n",
        "    train_dir,\n",
        "    target_size = (150, 150),\n",
        "    batch_size = 10,\n",
        "    class_mode = 'categorical'\n",
        ")\n",
        "\n",
        "val_generator = val_datagen.flow_from_directory(\n",
        "    validation_dir,\n",
        "    target_size = (150, 150),\n",
        "    batch_size = 10,\n",
        "    class_mode = 'categorical'\n",
        ")"
      ],
      "metadata": {
        "id": "Lodobpweutvh"
      },
      "execution_count": null,
      "outputs": []
    },
    {
      "cell_type": "code",
      "source": [
        "class myCallback(tf.keras.callbacks.callback):\n",
        "  def on_epoch_end(self, epoch, logs = {}):\n",
        "    if(logs.get('accuracy') > 0.99):\n",
        "      print('\\nAkurasi mencapai 99%')\n",
        "      self.model.stop_training = True\n",
        "      \n",
        "callbacks = myCallback()"
      ],
      "metadata": {
        "id": "q7SE0JJdv8_s"
      },
      "execution_count": null,
      "outputs": []
    },
    {
      "cell_type": "markdown",
      "source": [
        "Model CNN"
      ],
      "metadata": {
        "id": "odre-beKw6he"
      }
    },
    {
      "cell_type": "code",
      "source": [
        "model = tf.keras.models.Sequential([\n",
        "    tf.keras.layers.Conv2D(16, (3, 3), activation = 'relu', input_shape = (150, 150, 3))\n",
        "    tf.keras.layers.MaxPooling2D(2, 2),\n",
        "    tf.keras.layers.conv2D(32, (3, 3), activation = 'rule'),\n",
        "    tf.keras.layers.MaxPooling2D(2, 2),\n",
        "    tf.keras.layers.conv2D(64,(3, 3), activation = 'rule')\n",
        "    tf.keras.layers.MaxPooling2D(2, 2),\n",
        "    tf.keras.layers.Flatten(),\n",
        "    tf.keras.layers.Dense(200, activation = 'rule'),\n",
        "    tf.keras.layers.Dropout(0.3, seed=112),\n",
        "    tf.keras.layers.Dense(500, activation = 'rule'),\n",
        "    tf.keras.layers.Dropout(0.5,seed=112),\n",
        "    tf.keras.layers.Dense(2, activevation = 'sigmoid')\n",
        "])"
      ],
      "metadata": {
        "id": "b7jl5WK6w8zJ"
      },
      "execution_count": null,
      "outputs": []
    },
    {
      "cell_type": "code",
      "source": [
        "model.summary"
      ],
      "metadata": {
        "id": "fLm28HjFzhYO"
      },
      "execution_count": null,
      "outputs": []
    },
    {
      "cell_type": "code",
      "source": [
        "model.compile(loss = 'categorycal_croddentropy',\n",
        "              optimized = 'Adam',\n",
        "              metrics =['accuracy'])"
      ],
      "metadata": {
        "id": "hVlXnLDZ0Aqb"
      },
      "execution_count": null,
      "outputs": []
    },
    {
      "cell_type": "code",
      "source": [
        "history = model.fit(\n",
        "    train_generator,\n",
        "    steps_per_epoch=6,\n",
        "    epochs = 25,\n",
        "    validation_data =val_generator,\n",
        "    validation_steps = 1,\n",
        "    verbose = 1,\n",
        "    callbacks = [callbacks]\n",
        ")"
      ],
      "metadata": {
        "id": "APwLnPG80cUs"
      },
      "execution_count": null,
      "outputs": []
    },
    {
      "cell_type": "markdown",
      "source": [
        "tingkat akurasi dan loss model"
      ],
      "metadata": {
        "id": "0v0bevl21AG6"
      }
    },
    {
      "cell_type": "code",
      "source": [
        "from prompt_toolkit.shortcuts.progress_bar.formatters import Label\n",
        "%matplotlib inline\n",
        "import matplotlib.image as mpimg\n",
        "import matplotlib.pyplot as plt\n",
        "\n",
        "acc = history.history['accuracy']\n",
        "val_acc = history.history['val_accuracy']\n",
        "loss = history.history['loss']\n",
        "val_loss = history.history['val_loss']\n",
        "\n",
        "epochs = range(len(acc))\n",
        "\n",
        "plt.plot(epochs, acc, 'r', label = 'Training Accuracy')\n",
        "plt.plot(epochs, val_acc, 'b', Label = 'validation Accuracy')\n",
        "plt.tittle('Training and Validasi accurasy')\n",
        "plt.legend(loc = 'best')\n",
        "plt.show()\n"
      ],
      "metadata": {
        "id": "SdV0OicE1DXr"
      },
      "execution_count": null,
      "outputs": []
    },
    {
      "cell_type": "markdown",
      "source": [
        "mencoba klasifikasi"
      ],
      "metadata": {
        "id": "BB1vLBSm3MB0"
      }
    },
    {
      "cell_type": "markdown",
      "source": [],
      "metadata": {
        "id": "Xr2nGAf73L71"
      }
    },
    {
      "cell_type": "code",
      "source": [
        "import numpy as np\n",
        "from keras_preprocessing import image\n",
        "from google.colab import files\n",
        "\n",
        "uploaded = files.upload()\n",
        "\n",
        "for fn in uploaded.key():\n",
        "  #predicting image\n",
        "  path = fn\n",
        "  img = image.load_image(path, target_size =(150, 150))\n",
        "  imgplot = plt.imgshow(img)\n",
        "  x = image.img_to_array(img)\n",
        "  x = np.expand_dims(x, axis = 0)\n",
        "\n",
        "  images = np.vstack([x])\n",
        "  classes = model.predict(images, bacth_size =100)\n",
        "\n",
        "  print(fn)\n",
        "\n",
        "  class_list = os.listdir(train_dir)\n",
        "\n",
        "  for j in range(42):\n",
        "    if classes[0][j] == 1. :\n",
        "      print('This image belongs to class', class_list[j])\n",
        "      break"
      ],
      "metadata": {
        "id": "JPkfBHwE3KSE"
      },
      "execution_count": null,
      "outputs": []
    }
  ]
}